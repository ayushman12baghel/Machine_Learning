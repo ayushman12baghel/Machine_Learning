{
 "cells": [
  {
   "cell_type": "code",
   "execution_count": 34,
   "metadata": {},
   "outputs": [],
   "source": [
    "import numpy as np\n",
    "import pandas as pd\n",
    "import torch\n",
    "from sklearn.model_selection import train_test_split\n",
    "from sklearn.preprocessing import StandardScaler, LabelEncoder\n",
    "import requests\n",
    "from io import StringIO"
   ]
  },
  {
   "cell_type": "code",
   "execution_count": 35,
   "metadata": {},
   "outputs": [
    {
     "name": "stdout",
     "output_type": "stream",
     "text": [
      "         id diagnosis  radius_mean  texture_mean  perimeter_mean  area_mean  \\\n",
      "0    842302         M        17.99         10.38          122.80     1001.0   \n",
      "1    842517         M        20.57         17.77          132.90     1326.0   \n",
      "2  84300903         M        19.69         21.25          130.00     1203.0   \n",
      "3  84348301         M        11.42         20.38           77.58      386.1   \n",
      "4  84358402         M        20.29         14.34          135.10     1297.0   \n",
      "\n",
      "   smoothness_mean  compactness_mean  concavity_mean  concave points_mean  \\\n",
      "0          0.11840           0.27760          0.3001              0.14710   \n",
      "1          0.08474           0.07864          0.0869              0.07017   \n",
      "2          0.10960           0.15990          0.1974              0.12790   \n",
      "3          0.14250           0.28390          0.2414              0.10520   \n",
      "4          0.10030           0.13280          0.1980              0.10430   \n",
      "\n",
      "   ...  texture_worst  perimeter_worst  area_worst  smoothness_worst  \\\n",
      "0  ...          17.33           184.60      2019.0            0.1622   \n",
      "1  ...          23.41           158.80      1956.0            0.1238   \n",
      "2  ...          25.53           152.50      1709.0            0.1444   \n",
      "3  ...          26.50            98.87       567.7            0.2098   \n",
      "4  ...          16.67           152.20      1575.0            0.1374   \n",
      "\n",
      "   compactness_worst  concavity_worst  concave points_worst  symmetry_worst  \\\n",
      "0             0.6656           0.7119                0.2654          0.4601   \n",
      "1             0.1866           0.2416                0.1860          0.2750   \n",
      "2             0.4245           0.4504                0.2430          0.3613   \n",
      "3             0.8663           0.6869                0.2575          0.6638   \n",
      "4             0.2050           0.4000                0.1625          0.2364   \n",
      "\n",
      "   fractal_dimension_worst  Unnamed: 32  \n",
      "0                  0.11890          NaN  \n",
      "1                  0.08902          NaN  \n",
      "2                  0.08758          NaN  \n",
      "3                  0.17300          NaN  \n",
      "4                  0.07678          NaN  \n",
      "\n",
      "[5 rows x 33 columns]\n"
     ]
    }
   ],
   "source": [
    "url = \"https://raw.githubusercontent.com/gscdit/Breast-Cancer-Detection/master/data.csv\"\n",
    "\n",
    "try:\n",
    "    response = requests.get(url)\n",
    "    response.raise_for_status()  # Check if the request was successful\n",
    "    df = pd.read_csv(StringIO(response.text))\n",
    "    print(df.head())\n",
    "except requests.exceptions.RequestException as e:\n",
    "    print(f\"Error fetching data: {e}\")\n",
    "\n"
   ]
  },
  {
   "cell_type": "code",
   "execution_count": 36,
   "metadata": {},
   "outputs": [
    {
     "data": {
      "text/plain": [
       "(569, 33)"
      ]
     },
     "execution_count": 36,
     "metadata": {},
     "output_type": "execute_result"
    }
   ],
   "source": [
    "df.shape"
   ]
  },
  {
   "cell_type": "code",
   "execution_count": 37,
   "metadata": {},
   "outputs": [],
   "source": [
    "df=df.drop(columns=['id','Unnamed: 32'])"
   ]
  },
  {
   "cell_type": "code",
   "execution_count": 38,
   "metadata": {},
   "outputs": [
    {
     "data": {
      "text/html": [
       "<div>\n",
       "<style scoped>\n",
       "    .dataframe tbody tr th:only-of-type {\n",
       "        vertical-align: middle;\n",
       "    }\n",
       "\n",
       "    .dataframe tbody tr th {\n",
       "        vertical-align: top;\n",
       "    }\n",
       "\n",
       "    .dataframe thead th {\n",
       "        text-align: right;\n",
       "    }\n",
       "</style>\n",
       "<table border=\"1\" class=\"dataframe\">\n",
       "  <thead>\n",
       "    <tr style=\"text-align: right;\">\n",
       "      <th></th>\n",
       "      <th>radius_mean</th>\n",
       "      <th>texture_mean</th>\n",
       "      <th>perimeter_mean</th>\n",
       "      <th>area_mean</th>\n",
       "      <th>smoothness_mean</th>\n",
       "      <th>compactness_mean</th>\n",
       "      <th>concavity_mean</th>\n",
       "      <th>concave points_mean</th>\n",
       "      <th>symmetry_mean</th>\n",
       "      <th>fractal_dimension_mean</th>\n",
       "      <th>...</th>\n",
       "      <th>radius_worst</th>\n",
       "      <th>texture_worst</th>\n",
       "      <th>perimeter_worst</th>\n",
       "      <th>area_worst</th>\n",
       "      <th>smoothness_worst</th>\n",
       "      <th>compactness_worst</th>\n",
       "      <th>concavity_worst</th>\n",
       "      <th>concave points_worst</th>\n",
       "      <th>symmetry_worst</th>\n",
       "      <th>fractal_dimension_worst</th>\n",
       "    </tr>\n",
       "  </thead>\n",
       "  <tbody>\n",
       "    <tr>\n",
       "      <th>263</th>\n",
       "      <td>15.61</td>\n",
       "      <td>19.38</td>\n",
       "      <td>100.00</td>\n",
       "      <td>758.6</td>\n",
       "      <td>0.0784</td>\n",
       "      <td>0.05616</td>\n",
       "      <td>0.04209</td>\n",
       "      <td>0.02847</td>\n",
       "      <td>0.1547</td>\n",
       "      <td>0.05443</td>\n",
       "      <td>...</td>\n",
       "      <td>17.91</td>\n",
       "      <td>31.67</td>\n",
       "      <td>115.90</td>\n",
       "      <td>988.6</td>\n",
       "      <td>0.1084</td>\n",
       "      <td>0.1807</td>\n",
       "      <td>0.2260</td>\n",
       "      <td>0.08568</td>\n",
       "      <td>0.2683</td>\n",
       "      <td>0.06829</td>\n",
       "    </tr>\n",
       "    <tr>\n",
       "      <th>163</th>\n",
       "      <td>12.34</td>\n",
       "      <td>22.22</td>\n",
       "      <td>79.85</td>\n",
       "      <td>464.5</td>\n",
       "      <td>0.1012</td>\n",
       "      <td>0.10150</td>\n",
       "      <td>0.05370</td>\n",
       "      <td>0.02822</td>\n",
       "      <td>0.1551</td>\n",
       "      <td>0.06761</td>\n",
       "      <td>...</td>\n",
       "      <td>13.58</td>\n",
       "      <td>28.68</td>\n",
       "      <td>87.36</td>\n",
       "      <td>553.0</td>\n",
       "      <td>0.1452</td>\n",
       "      <td>0.2338</td>\n",
       "      <td>0.1688</td>\n",
       "      <td>0.08194</td>\n",
       "      <td>0.2268</td>\n",
       "      <td>0.09082</td>\n",
       "    </tr>\n",
       "  </tbody>\n",
       "</table>\n",
       "<p>2 rows × 30 columns</p>\n",
       "</div>"
      ],
      "text/plain": [
       "     radius_mean  texture_mean  perimeter_mean  area_mean  smoothness_mean  \\\n",
       "263        15.61         19.38          100.00      758.6           0.0784   \n",
       "163        12.34         22.22           79.85      464.5           0.1012   \n",
       "\n",
       "     compactness_mean  concavity_mean  concave points_mean  symmetry_mean  \\\n",
       "263           0.05616         0.04209              0.02847         0.1547   \n",
       "163           0.10150         0.05370              0.02822         0.1551   \n",
       "\n",
       "     fractal_dimension_mean  ...  radius_worst  texture_worst  \\\n",
       "263                 0.05443  ...         17.91          31.67   \n",
       "163                 0.06761  ...         13.58          28.68   \n",
       "\n",
       "     perimeter_worst  area_worst  smoothness_worst  compactness_worst  \\\n",
       "263           115.90       988.6            0.1084             0.1807   \n",
       "163            87.36       553.0            0.1452             0.2338   \n",
       "\n",
       "     concavity_worst  concave points_worst  symmetry_worst  \\\n",
       "263           0.2260               0.08568          0.2683   \n",
       "163           0.1688               0.08194          0.2268   \n",
       "\n",
       "     fractal_dimension_worst  \n",
       "263                  0.06829  \n",
       "163                  0.09082  \n",
       "\n",
       "[2 rows x 30 columns]"
      ]
     },
     "execution_count": 38,
     "metadata": {},
     "output_type": "execute_result"
    }
   ],
   "source": [
    "X_train,X_test,y_train,y_test=train_test_split(df.iloc[:,1:],df.iloc[:,0],test_size=0.2)\n",
    "X_train.head(2)"
   ]
  },
  {
   "cell_type": "code",
   "execution_count": 39,
   "metadata": {},
   "outputs": [
    {
     "data": {
      "text/plain": [
       "263    M\n",
       "163    B\n",
       "Name: diagnosis, dtype: object"
      ]
     },
     "execution_count": 39,
     "metadata": {},
     "output_type": "execute_result"
    }
   ],
   "source": [
    "y_train.head(2)"
   ]
  },
  {
   "cell_type": "code",
   "execution_count": 40,
   "metadata": {},
   "outputs": [
    {
     "data": {
      "text/plain": [
       "array([[ 0.42015123,  0.02801066,  0.33250406, ..., -0.43373885,\n",
       "        -0.34695692, -0.85242787],\n",
       "       [-0.50823998,  0.6840805 , -0.49925506, ..., -0.49082321,\n",
       "        -0.99786093,  0.40859421],\n",
       "       [-0.3606059 , -1.37191302, -0.37665831, ...,  0.0214097 ,\n",
       "        -0.81905839,  0.11250868],\n",
       "       ...,\n",
       "       [-0.5451485 , -1.19403493, -0.54342291, ..., -0.34643336,\n",
       "        -0.35636758,  0.26418955],\n",
       "       [ 0.16463072,  0.53854388,  0.14881532, ...,  1.05778083,\n",
       "         1.24501314,  1.44853163],\n",
       "       [ 1.09586105, -2.05108392,  1.27365086, ...,  2.30936304,\n",
       "         2.66131754,  1.98025421]], shape=(455, 30))"
      ]
     },
     "execution_count": 40,
     "metadata": {},
     "output_type": "execute_result"
    }
   ],
   "source": [
    "scaler=StandardScaler()\n",
    "X_train=scaler.fit_transform(X_train)\n",
    "X_test=scaler.transform(X_test)\n",
    "\n",
    "X_train"
   ]
  },
  {
   "cell_type": "code",
   "execution_count": 41,
   "metadata": {},
   "outputs": [
    {
     "data": {
      "text/plain": [
       "263    M\n",
       "163    B\n",
       "322    B\n",
       "531    B\n",
       "259    M\n",
       "      ..\n",
       "157    B\n",
       "318    B\n",
       "386    B\n",
       "57     M\n",
       "0      M\n",
       "Name: diagnosis, Length: 455, dtype: object"
      ]
     },
     "execution_count": 41,
     "metadata": {},
     "output_type": "execute_result"
    }
   ],
   "source": [
    "y_train"
   ]
  },
  {
   "cell_type": "code",
   "execution_count": 42,
   "metadata": {},
   "outputs": [
    {
     "data": {
      "text/plain": [
       "array([1, 0, 0, 0, 1, 1, 0, 0, 0, 1, 1, 0, 0, 0, 0, 1, 0, 1, 1, 1, 0, 0,\n",
       "       1, 1, 0, 1, 1, 1, 1, 0, 0, 0, 0, 1, 1, 0, 0, 0, 1, 0, 0, 1, 0, 0,\n",
       "       0, 0, 0, 0, 0, 0, 1, 1, 0, 0, 0, 1, 0, 0, 1, 1, 1, 0, 0, 1, 1, 0,\n",
       "       1, 1, 0, 0, 0, 0, 1, 1, 1, 1, 0, 0, 0, 1, 1, 0, 0, 1, 0, 0, 1, 0,\n",
       "       0, 0, 1, 0, 0, 1, 0, 0, 1, 0, 0, 0, 0, 1, 0, 0, 0, 0, 1, 0, 0, 1,\n",
       "       0, 1, 0, 1, 0, 0, 0, 1, 0, 0, 0, 1, 1, 0, 1, 0, 0, 0, 1, 0, 0, 1,\n",
       "       0, 0, 0, 1, 0, 0, 0, 1, 1, 0, 1, 0, 1, 0, 1, 0, 0, 0, 0, 1, 1, 0,\n",
       "       0, 0, 0, 0, 0, 0, 0, 0, 1, 1, 0, 0, 1, 1, 0, 1, 1, 1, 0, 1, 1, 1,\n",
       "       1, 0, 1, 0, 1, 0, 0, 0, 0, 0, 0, 0, 0, 0, 0, 0, 0, 1, 0, 0, 0, 1,\n",
       "       0, 0, 0, 1, 1, 0, 1, 0, 0, 0, 0, 1, 1, 0, 0, 0, 1, 0, 0, 0, 0, 0,\n",
       "       0, 1, 1, 1, 0, 0, 0, 0, 0, 1, 1, 0, 1, 0, 1, 0, 1, 0, 0, 0, 0, 0,\n",
       "       0, 0, 0, 0, 0, 0, 0, 1, 1, 1, 0, 0, 1, 0, 0, 1, 0, 0, 1, 0, 1, 1,\n",
       "       0, 1, 0, 0, 1, 0, 0, 0, 0, 0, 0, 1, 1, 1, 0, 1, 0, 1, 0, 1, 0, 0,\n",
       "       0, 0, 1, 0, 0, 0, 1, 0, 0, 1, 1, 1, 0, 0, 1, 1, 0, 1, 1, 0, 0, 0,\n",
       "       1, 0, 1, 1, 1, 1, 0, 1, 0, 1, 0, 0, 1, 1, 1, 0, 0, 0, 0, 0, 0, 0,\n",
       "       0, 0, 1, 0, 1, 0, 0, 0, 1, 1, 1, 0, 0, 1, 0, 0, 1, 0, 1, 0, 0, 1,\n",
       "       0, 0, 0, 0, 1, 1, 0, 1, 0, 1, 1, 0, 1, 0, 1, 0, 1, 0, 0, 1, 0, 0,\n",
       "       1, 1, 0, 1, 0, 1, 0, 0, 1, 0, 0, 0, 1, 1, 0, 0, 1, 0, 1, 0, 1, 0,\n",
       "       1, 0, 0, 0, 1, 0, 0, 0, 0, 1, 1, 0, 0, 0, 0, 1, 0, 0, 1, 0, 1, 0,\n",
       "       1, 0, 1, 1, 1, 0, 0, 1, 0, 1, 1, 0, 1, 0, 0, 0, 0, 1, 0, 0, 0, 0,\n",
       "       0, 0, 1, 0, 1, 0, 0, 1, 0, 0, 0, 0, 0, 1, 1])"
      ]
     },
     "execution_count": 42,
     "metadata": {},
     "output_type": "execute_result"
    }
   ],
   "source": [
    "encoder=LabelEncoder()\n",
    "y_train=encoder.fit_transform(y_train)\n",
    "y_test=encoder.transform(y_test)\n",
    "\n",
    "y_train"
   ]
  },
  {
   "cell_type": "code",
   "execution_count": 43,
   "metadata": {},
   "outputs": [],
   "source": [
    "#Numpy arrays to tensors\n",
    "X_train_tensor=torch.tensor(X_train)\n",
    "X_test_tensor=torch.tensor(X_test)\n",
    "y_train_tensor=torch.tensor(y_train)\n",
    "y_test_tensor=torch.tensor(y_test)"
   ]
  },
  {
   "cell_type": "code",
   "execution_count": 44,
   "metadata": {},
   "outputs": [
    {
     "data": {
      "text/plain": [
       "tensor([[ 0.4202,  0.0280,  0.3325,  ..., -0.4337, -0.3470, -0.8524],\n",
       "        [-0.5082,  0.6841, -0.4993,  ..., -0.4908, -0.9979,  0.4086],\n",
       "        [-0.3606, -1.3719, -0.3767,  ...,  0.0214, -0.8191,  0.1125],\n",
       "        ...,\n",
       "        [-0.5451, -1.1940, -0.5434,  ..., -0.3464, -0.3564,  0.2642],\n",
       "        [ 0.1646,  0.5385,  0.1488,  ...,  1.0578,  1.2450,  1.4485],\n",
       "        [ 1.0959, -2.0511,  1.2737,  ...,  2.3094,  2.6613,  1.9803]],\n",
       "       dtype=torch.float64)"
      ]
     },
     "execution_count": 44,
     "metadata": {},
     "output_type": "execute_result"
    }
   ],
   "source": [
    "X_train_tensor"
   ]
  },
  {
   "cell_type": "code",
   "execution_count": 45,
   "metadata": {},
   "outputs": [],
   "source": [
    "#Defining The model\n",
    "\n",
    "class MySimpleNN():\n",
    "    def __init__(self,X):\n",
    "        self.weights=torch.rand(X.shape[1],1,dtype=torch.float64,requires_grad=True)\n",
    "        self.bias=torch.zeros(1,dtype=torch.float64,requires_grad=True)\n",
    "\n",
    "    def forward(self,X):\n",
    "        z=torch.matmul(X,self.weights)+self.bias\n",
    "        y_pred=torch.sigmoid(z)\n",
    "        return y_pred\n",
    "    \n",
    "    def loss_function(self,y_pred,y_train_tensor):\n",
    "        #Clamp prediction to avoid log(0) error\n",
    "        epsilon=1e-7\n",
    "        y_pred=torch.clamp(y_pred,epsilon,1-epsilon)\n",
    "\n",
    "        #Calculate Loss\n",
    "        loss=-(y_train_tensor*torch.log(y_pred)+(1-y_train_tensor)*torch.log(1-y_pred)).mean()\n",
    "        return loss\n",
    "    \n",
    "    \n",
    "        "
   ]
  },
  {
   "cell_type": "code",
   "execution_count": 46,
   "metadata": {},
   "outputs": [],
   "source": [
    "#important Parameters\n",
    "learning_rate=0.1\n",
    "epochs=25\n"
   ]
  },
  {
   "cell_type": "code",
   "execution_count": 47,
   "metadata": {},
   "outputs": [
    {
     "name": "stdout",
     "output_type": "stream",
     "text": [
      "Epoch: 1 Loss: 3.581341234720667\n",
      "Epoch: 2 Loss: 3.442730638921226\n",
      "Epoch: 3 Loss: 3.3013578332712283\n",
      "Epoch: 4 Loss: 3.152992667135974\n",
      "Epoch: 5 Loss: 3.0016883083733856\n",
      "Epoch: 6 Loss: 2.848385228019615\n",
      "Epoch: 7 Loss: 2.6901056357421385\n",
      "Epoch: 8 Loss: 2.5330565962492613\n",
      "Epoch: 9 Loss: 2.377081984104692\n",
      "Epoch: 10 Loss: 2.2231348152609067\n",
      "Epoch: 11 Loss: 2.069499979260195\n",
      "Epoch: 12 Loss: 1.9147872802821186\n",
      "Epoch: 13 Loss: 1.7603365663132433\n",
      "Epoch: 14 Loss: 1.609107899895346\n",
      "Epoch: 15 Loss: 1.4679826678800616\n",
      "Epoch: 16 Loss: 1.3405411727412968\n",
      "Epoch: 17 Loss: 1.2284160725682916\n",
      "Epoch: 18 Loss: 1.1326743044040384\n",
      "Epoch: 19 Loss: 1.0533681603177225\n",
      "Epoch: 20 Loss: 0.9893632078425076\n",
      "Epoch: 21 Loss: 0.9386267186756193\n",
      "Epoch: 22 Loss: 0.8987632250742\n",
      "Epoch: 23 Loss: 0.8674495682782606\n",
      "Epoch: 24 Loss: 0.8426699737340124\n",
      "Epoch: 25 Loss: 0.8228096537672277\n"
     ]
    }
   ],
   "source": [
    "#Training Pipeline\n",
    "#Create Model\n",
    "model=MySimpleNN(X_train_tensor)\n",
    "\n",
    "#Training Loop\n",
    "for epoch in   range(epochs):\n",
    "    #forward Pass\n",
    "    y_pred=model.forward(X_train_tensor)\n",
    "\n",
    "    #Loss Function\n",
    "    loss=model.loss_function(y_pred,y_train_tensor)\n",
    "    # print(f'Epoch: {epoch+1} Loss: {loss}')\n",
    "\n",
    "    #Backward Pass\n",
    "    loss.backward()\n",
    "\n",
    "    #parameter Update\n",
    "    with torch.no_grad():\n",
    "        model.weights-=learning_rate*model.weights.grad\n",
    "        model.bias-=learning_rate*model.bias.grad\n",
    "\n",
    "    #Zero the gradients\n",
    "    model.weights.grad.zero_()\n",
    "    model.bias.grad.zero_()\n",
    "\n",
    "    print(f'Epoch: {epoch+1} Loss: {loss.item()}')"
   ]
  },
  {
   "cell_type": "code",
   "execution_count": 48,
   "metadata": {},
   "outputs": [
    {
     "data": {
      "text/plain": [
       "tensor([-0.1457], dtype=torch.float64, requires_grad=True)"
      ]
     },
     "execution_count": 48,
     "metadata": {},
     "output_type": "execute_result"
    }
   ],
   "source": [
    "model.bias"
   ]
  },
  {
   "cell_type": "code",
   "execution_count": 49,
   "metadata": {},
   "outputs": [
    {
     "name": "stdout",
     "output_type": "stream",
     "text": [
      "Accuracy: 59.08771896362305\n"
     ]
    }
   ],
   "source": [
    "with torch.no_grad():\n",
    "    y_pred=model.forward(X_test_tensor)\n",
    "    y_pred=torch.round(y_pred)\n",
    "    accuracy=(y_pred==y_test_tensor).sum()/y_test_tensor.shape[0]\n",
    "    print(f'Accuracy: {accuracy.item()}')"
   ]
  },
  {
   "cell_type": "code",
   "execution_count": 50,
   "metadata": {},
   "outputs": [],
   "source": [
    "from torch.utils.data import Dataset, DataLoader\n",
    "class CustomDataset(Dataset):\n",
    "    def __init__(self, features, labels):\n",
    "        self.features = features\n",
    "        self.labels = labels\n",
    "\n",
    "    def __len__(self):\n",
    "        return len(self.labels)\n",
    "\n",
    "    def __getitem__(self, index):\n",
    "        return self.features[index], self.labels[index]\n",
    "    "
   ]
  },
  {
   "cell_type": "code",
   "execution_count": 51,
   "metadata": {},
   "outputs": [],
   "source": [
    "train_dataset=CustomDataset(X_train_tensor,y_train_tensor)\n",
    "test_dataset=CustomDataset(X_test_tensor,y_test_tensor)"
   ]
  },
  {
   "cell_type": "code",
   "execution_count": 53,
   "metadata": {},
   "outputs": [],
   "source": [
    "train_loader=DataLoader(train_dataset,batch_size=16,shuffle=True)\n",
    "test_loader=DataLoader(test_dataset,batch_size=16,shuffle=True)"
   ]
  },
  {
   "cell_type": "code",
   "execution_count": 55,
   "metadata": {},
   "outputs": [],
   "source": [
    "import torch.nn as nn\n",
    "\n",
    "class MySimpleNN(nn.Module):\n",
    "    def __init__(self,num_features):\n",
    "        super().__init__()\n",
    "        self.linear=nn.Linear(num_features,1)\n",
    "        self.sigmoid=nn.Sigmoid()\n",
    "    \n",
    "    def forward(self,features):\n",
    "        out=self.linear(features)\n",
    "        out=self.sigmoid(out)\n",
    "\n",
    "        return out"
   ]
  },
  {
   "cell_type": "code",
   "execution_count": 56,
   "metadata": {},
   "outputs": [],
   "source": [
    "learning_rate=0.1\n",
    "epochs=25\n",
    "\n",
    "model=MySimpleNN(X_train_tensor.shape[1])\n",
    "\n",
    "optimiser=torch.optim.SGD(model.parameters(),lr=learning_rate)\n",
    "\n",
    "loss_function=nn.BCELoss()"
   ]
  },
  {
   "cell_type": "code",
   "execution_count": 60,
   "metadata": {},
   "outputs": [
    {
     "name": "stdout",
     "output_type": "stream",
     "text": [
      "Epoch: 1 Loss: 0.2818625867366791\n",
      "Epoch: 2 Loss: 0.023374240845441818\n",
      "Epoch: 3 Loss: 0.10206346958875656\n",
      "Epoch: 4 Loss: 0.050338711589574814\n",
      "Epoch: 5 Loss: 0.03152155131101608\n",
      "Epoch: 6 Loss: 0.0028630737215280533\n",
      "Epoch: 7 Loss: 0.058141183108091354\n",
      "Epoch: 8 Loss: 0.01188418548554182\n",
      "Epoch: 9 Loss: 0.03943657875061035\n",
      "Epoch: 10 Loss: 0.08406185358762741\n",
      "Epoch: 11 Loss: 0.0043503353372216225\n",
      "Epoch: 12 Loss: 0.00028935904265381396\n",
      "Epoch: 13 Loss: 0.22715076804161072\n",
      "Epoch: 14 Loss: 0.015040270052850246\n",
      "Epoch: 15 Loss: 0.011244179680943489\n",
      "Epoch: 16 Loss: 0.011786156333982944\n",
      "Epoch: 17 Loss: 0.0457335002720356\n",
      "Epoch: 18 Loss: 0.030387742444872856\n",
      "Epoch: 19 Loss: 0.19668294489383698\n",
      "Epoch: 20 Loss: 0.03336084634065628\n",
      "Epoch: 21 Loss: 0.04091880843043327\n",
      "Epoch: 22 Loss: 0.0605073980987072\n",
      "Epoch: 23 Loss: 0.06164391711354256\n",
      "Epoch: 24 Loss: 0.022116035223007202\n",
      "Epoch: 25 Loss: 0.015810901299118996\n"
     ]
    }
   ],
   "source": [
    "for epoch in range(epochs):\n",
    "    for features,labels in train_loader:\n",
    "        optimiser.zero_grad()\n",
    "        y_pred=model(features.float())\n",
    "        loss=loss_function(y_pred,labels.float().view(-1,1))\n",
    "        loss.backward()\n",
    "        optimiser.step()\n",
    "    print(f'Epoch: {epoch+1} Loss: {loss.item()}')"
   ]
  },
  {
   "cell_type": "code",
   "execution_count": 62,
   "metadata": {},
   "outputs": [],
   "source": [
    "model.eval()\n",
    "accuracy_list=[]\n",
    "\n",
    "with torch.no_grad():\n",
    "    for batch_features,batch_labels in test_loader:\n",
    "        # forward pass\n",
    "        y_pred=model(batch_features.float())\n",
    "        y_pred=(y_pred>0.8).float()\n",
    "\n",
    "        #accuracy\n",
    "        batch_accuracy=(y_pred.view(-1)==batch_labels).float().mean().item()\n",
    "        accuracy_list.append(batch_accuracy)\n",
    "\n",
    "overall_accuracy=sum(accuracy_list)/len(accuracy_list)"
   ]
  },
  {
   "cell_type": "code",
   "execution_count": 63,
   "metadata": {},
   "outputs": [
    {
     "name": "stdout",
     "output_type": "stream",
     "text": [
      "Overall Accuracy: 0.984375\n"
     ]
    }
   ],
   "source": [
    "print(f'Overall Accuracy: {overall_accuracy}')"
   ]
  }
 ],
 "metadata": {
  "kernelspec": {
   "display_name": "Python 3",
   "language": "python",
   "name": "python3"
  },
  "language_info": {
   "codemirror_mode": {
    "name": "ipython",
    "version": 3
   },
   "file_extension": ".py",
   "mimetype": "text/x-python",
   "name": "python",
   "nbconvert_exporter": "python",
   "pygments_lexer": "ipython3",
   "version": "3.13.1"
  }
 },
 "nbformat": 4,
 "nbformat_minor": 2
}
