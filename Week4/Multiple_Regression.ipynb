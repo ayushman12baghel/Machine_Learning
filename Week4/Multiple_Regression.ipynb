{
 "cells": [
  {
   "cell_type": "code",
   "execution_count": 1,
   "metadata": {},
   "outputs": [],
   "source": [
    "from sklearn.datasets import make_regression\n",
    "import pandas as pd\n",
    "import numpy as np\n",
    "\n",
    "import plotly.express as px\n",
    "import plotly.graph_objects as go\n",
    "\n",
    "from sklearn.metrics import mean_squared_error,mean_absolute_error,r2_score"
   ]
  },
  {
   "cell_type": "code",
   "execution_count": 5,
   "metadata": {},
   "outputs": [],
   "source": [
    "X,y = make_regression(n_samples=100, n_features=2, n_informative=2, n_targets=1, noise=50)\n",
    "     "
   ]
  },
  {
   "cell_type": "code",
   "execution_count": 6,
   "metadata": {},
   "outputs": [],
   "source": [
    "df = pd.DataFrame({'feature1':X[:,0],'feature2':X[:,1],'target':y})"
   ]
  },
  {
   "cell_type": "code",
   "execution_count": 7,
   "metadata": {},
   "outputs": [
    {
     "data": {
      "text/plain": [
       "(100, 3)"
      ]
     },
     "execution_count": 7,
     "metadata": {},
     "output_type": "execute_result"
    }
   ],
   "source": [
    "df.shape"
   ]
  },
  {
   "cell_type": "code",
   "execution_count": 8,
   "metadata": {},
   "outputs": [
    {
     "data": {
      "text/html": [
       "<div>\n",
       "<style scoped>\n",
       "    .dataframe tbody tr th:only-of-type {\n",
       "        vertical-align: middle;\n",
       "    }\n",
       "\n",
       "    .dataframe tbody tr th {\n",
       "        vertical-align: top;\n",
       "    }\n",
       "\n",
       "    .dataframe thead th {\n",
       "        text-align: right;\n",
       "    }\n",
       "</style>\n",
       "<table border=\"1\" class=\"dataframe\">\n",
       "  <thead>\n",
       "    <tr style=\"text-align: right;\">\n",
       "      <th></th>\n",
       "      <th>feature1</th>\n",
       "      <th>feature2</th>\n",
       "      <th>target</th>\n",
       "    </tr>\n",
       "  </thead>\n",
       "  <tbody>\n",
       "    <tr>\n",
       "      <th>0</th>\n",
       "      <td>0.813381</td>\n",
       "      <td>-1.023778</td>\n",
       "      <td>-106.958764</td>\n",
       "    </tr>\n",
       "    <tr>\n",
       "      <th>1</th>\n",
       "      <td>1.588062</td>\n",
       "      <td>-0.584481</td>\n",
       "      <td>-32.614397</td>\n",
       "    </tr>\n",
       "    <tr>\n",
       "      <th>2</th>\n",
       "      <td>1.443376</td>\n",
       "      <td>0.488231</td>\n",
       "      <td>33.277414</td>\n",
       "    </tr>\n",
       "    <tr>\n",
       "      <th>3</th>\n",
       "      <td>2.502407</td>\n",
       "      <td>-1.620776</td>\n",
       "      <td>-106.792454</td>\n",
       "    </tr>\n",
       "    <tr>\n",
       "      <th>4</th>\n",
       "      <td>0.047886</td>\n",
       "      <td>-0.022802</td>\n",
       "      <td>12.993705</td>\n",
       "    </tr>\n",
       "  </tbody>\n",
       "</table>\n",
       "</div>"
      ],
      "text/plain": [
       "   feature1  feature2      target\n",
       "0  0.813381 -1.023778 -106.958764\n",
       "1  1.588062 -0.584481  -32.614397\n",
       "2  1.443376  0.488231   33.277414\n",
       "3  2.502407 -1.620776 -106.792454\n",
       "4  0.047886 -0.022802   12.993705"
      ]
     },
     "execution_count": 8,
     "metadata": {},
     "output_type": "execute_result"
    }
   ],
   "source": [
    "df.head()"
   ]
  },
  {
   "cell_type": "code",
   "execution_count": 9,
   "metadata": {},
   "outputs": [
    {
     "data": {
      "application/vnd.plotly.v1+json": {
       "config": {
        "plotlyServerURL": "https://plot.ly"
       },
       "data": [
        {
         "hovertemplate": "feature1=%{x}<br>feature2=%{y}<br>target=%{z}<extra></extra>",
         "legendgroup": "",
         "marker": {
          "color": "#636efa",
          "symbol": "circle"
         },
         "mode": "markers",
         "name": "",
         "scene": "scene",
         "showlegend": false,
         "type": "scatter3d",
         "x": {
          "bdata": "pRPYIzcH6j/jp6sxtGj5P+dC6IQRGPc/fkXjDO4EBECVnOhLjISoP/PB4hDNrN2/EylBwPkU1L/X/qnafCTTP4ADcXisheI/Wj/HCRvi4L/Jt55Ve3rmP83COhYieLk/jRLR38KG779iYrXaCeumvw/i5fY3Auu/6V0w+Lonvj/26OFQTefEP15ZLIRA0+i/kmE9qEuIwj9WMbK8ljX3vy4Lj55Hd9+/MUhgfaMw9T9ZqjuidRvqvxkLd/ySX7M/KHc6DLwQ8T8nBn2T98DXP/ioy3HpneU/KzGxuWq98L827BC6tIzivwefFQJ3cdI/f8pT7YNa8D/AK9aA9s/Iv3Z173F0zt2/Kf6ukg4b879yXciJynzxP+MV6utJzPm/wtJedVPk47/wvgSnlHjav62Y9BUll+s/s6pIfw9U7j9f3tv0Atnyvz5FQ7bH9vY/boK9lAe56r/UclLWBZfSPz97M6XtCfM/6Iqm7yFS8T/6aHtPn0fjP8xFkwo1AfQ/RX7DtIpV3D8PROsFPuLWP7V+qIp5avO/lI8oV3o64j8oNHrZ8Yjjv8nwod/vd5c/yiBFgeWBwT9UGz85Hku8P2UnoLHJTPE/VL//BpUe3D+d+iGAZaXbv8vWEDNvyfC/dxWWos7Fyj9IIrhlwU7vP6cOuesGxvE/UgTefL205j+d1EGFS5Dyv+grzdH4JfE/5JDEM4jC1j/dw69dzHPrv5ZTGZG3sfS/3ni8FkNi7b/xC6gT/MHxPx46Wtum7tW/COho32BCzb9vluaQACuuP5CNwv7aRvE/kKQUaGYtyb8lqPHofc3tP+M1Z/PpNPY/Tk3vIwTD8j8E+7O4PWTrPwcrux+Ij5+/Mfj6gkbT5z/pjnUbAS4FQB9RDiutvue/mmwXXqIM8L9dS+F3rnfqPzGllyycN/I/lCBmhumi77+dILjxqT3oPxq/NXSzkvI/D4YfFZl0+z/PX60J/lLXPx/LxBtIVuC/LojaFuq617+cwQ+PGZvtv6sAJ7/yjfK/UV1pS0FB6D+AF66gLkS7P6JTYphE6oO/OUbrLmEd6z8=",
          "dtype": "f8"
         },
         "y": {
          "bdata": "xwWdE2Vh8L9odh/XEbTiv/I8U3stP98/fGPhc7Lu+b/xEktGSFmXvzIXVFUKV/S/x7QFRTrs979upQvWDvz+vymKyk8st7e/rUEMCBjE4z+Yj35ABgvtv/d4GrUVA7Q/ggI625uj0T/zy8lNm7fsPwWUXcW47dS/kULa2Zk/2D9oCuR8wMnoP5tHssSTgKi/yq4Akhml+j8c1E5pwE3jv9GUU+9UBeO/dbnq+IZB9b8TOhMl3SH4P7bnHxOglqc/J35s1OlO9b+ZqfRrTMPuP8lj2Dg5k/S/Fyuf92V46r9kCbnaLBr0P6S7+nOhl+O/nk9DDcnzw7+grY3prB7lP/1t1hjCT+C/WUtpwUpa5T+9rsnU3kzrv0UI2dT1cwFASzpwkjMo+b/a1cAphzrnv7Re3bqpPc+/4cnlFGhy8T8/lBQJCy36PxUVV0k0Hvm/JIv1pF64+r+PWdouxyP6P9EyGrLaJtE/x+SdbHNY6b+q+RhWRdnEP2BLErgZ1OW/F+yfGFaZ4b86y3HptXnaP4DYkBEkQ9k//Kd1MCyD0b9z7hfMW7nVP9U+6fd3mui/tj8RgR3f7j/mjAOA6ZG4v+c8pV/gX/A/D93gk5BL6T/FPOPKKRTWv/ZRiTU1H8A/LYVqRwAI7j9Mf02XF4bhv3aambn/U/k/OH6fvxja4j8L8bEcM9z+P8+mzrrN2QFA7JwL2tVV4b87ZPEeha/6P1F8B8kSsOm/+qRuxbxo9D/JA0UlTdYIQCrCo3nc5Pe/uG8Akai/7T+W5wUZUtPlv878GIFf87K/1yQibN2U9b+5OwJcNb/xv4XNI5hIONC/oXgXzV+B3b/H4gzmfzLHv1h8AtR2euK/DMi9GdoJ4D/kS2/E95LrP0S0DQD0e+E/OnjhQLw2AMC9bVK9Fr/dP53hwK7s9uI/UPr2TDVU5j9jQw1cLL/1v+WT+Nchf+E/WOXw2K1j3r+QHP7MtdLvv5ic/D42I/u/pQXpFZDY5T/HbwhIFDbQP/mt+qT34gDA2fmC40Nc6T/ezZcusK/bPyR7v792Oty/uxc6MUXe+r8=",
          "dtype": "f8"
         },
         "z": {
          "bdata": "CXaEZVy9WsDKdCqMpE5AwEethEuCo0BAtOh+j7eyWsB7yr3bxvwpQL4BfAxqnmnAXXew+VPfWcBmYIyWUGZrwK/y+2koVz/AODBhKmFNH0AiDtaXbkpPwOsQ7Jy3YFXA8Bp9ERQGH8B4Oaum11AgQP59ILn+rFPA9Iu09ZtbPcBvvjiUg1ZDQNnPjMBqH0FAtbRkIRroZED83MmhQWtNwE3n/vKV5VLA6Ngn4flBP8C0v5CxRHlWQDaXO2b4uFFAPAeLrJoaYcDtkCJoqDxRQIj8R7Mpq2TAQJjbYknPRcAOOrLSP6NFQGSKEsDvpFzASDUuAOhYIsCQNBXUrIJhQD5q2/6m3EPA+LYUwC85WkC+Q4tyulI8wOdNWW0sG2dAfF2/sXCgYMAyi0XC6QdawHYvaufIiyfAmH+N9qwFNcAVtEzS+9BTQDCaZRme3lLAIqB7MGlCYMBJuhOtgRtiQC6XBOq3alJA5Cb45TZ4LUDywyMSB/xGQLA1FM28I03A4LnGUwUqGEAjpagHrRdBQN5gv1bsK0tAfgjt83yaWMC/a7oTJBo0wKSC7eURLVbAB6RK9Y2SYEAS0GQXfo9OwIYHiAW95lpA7hyVQv/GWUDewDEYZPxFwKMaB+0WfC7A3GyzdEYnXEDMPsLKLSlHwGqyCW6tx05AcqeDuFayO8DOzjzrUPRqQC4ohu1I625AV6dzyUVHNsDeGn0IaqRfQO8gz+W4XmHAaICHkc9jXkCgi6KHWwpxQGp6R18U8WPA0bd5FtCNW0CHE3scN19hwPbwmpbfbVBAh9y8x5fwZ8C6Tmx7ndxlwBi8L2f0phtAhJ6Cq5GCTMBOeOaeOmhawLhC4jPkQEjAQEB6EvjGR0AzjisiD31YQO3vyRkm5UJA0IBVnM2abcDAbKLEuFNPQLiY+dUX6k5A3s81kH2GSEBM0hQR3jNmwF6LYwWhDkpAUjFHXCFoRkBATRnC4jhXwIpwBPoPUFjAcf1PjIm6TUB+cGmvidBDQKi+z3kTLXDAHRIbMvKaV0ATMO+vfyJXQNgEOE5LwlLABBzzNix/ZsA=",
          "dtype": "f8"
         }
        }
       ],
       "layout": {
        "legend": {
         "tracegroupgap": 0
        },
        "margin": {
         "t": 60
        },
        "scene": {
         "domain": {
          "x": [
           0,
           1
          ],
          "y": [
           0,
           1
          ]
         },
         "xaxis": {
          "title": {
           "text": "feature1"
          }
         },
         "yaxis": {
          "title": {
           "text": "feature2"
          }
         },
         "zaxis": {
          "title": {
           "text": "target"
          }
         }
        },
        "template": {
         "data": {
          "bar": [
           {
            "error_x": {
             "color": "#2a3f5f"
            },
            "error_y": {
             "color": "#2a3f5f"
            },
            "marker": {
             "line": {
              "color": "#E5ECF6",
              "width": 0.5
             },
             "pattern": {
              "fillmode": "overlay",
              "size": 10,
              "solidity": 0.2
             }
            },
            "type": "bar"
           }
          ],
          "barpolar": [
           {
            "marker": {
             "line": {
              "color": "#E5ECF6",
              "width": 0.5
             },
             "pattern": {
              "fillmode": "overlay",
              "size": 10,
              "solidity": 0.2
             }
            },
            "type": "barpolar"
           }
          ],
          "carpet": [
           {
            "aaxis": {
             "endlinecolor": "#2a3f5f",
             "gridcolor": "white",
             "linecolor": "white",
             "minorgridcolor": "white",
             "startlinecolor": "#2a3f5f"
            },
            "baxis": {
             "endlinecolor": "#2a3f5f",
             "gridcolor": "white",
             "linecolor": "white",
             "minorgridcolor": "white",
             "startlinecolor": "#2a3f5f"
            },
            "type": "carpet"
           }
          ],
          "choropleth": [
           {
            "colorbar": {
             "outlinewidth": 0,
             "ticks": ""
            },
            "type": "choropleth"
           }
          ],
          "contour": [
           {
            "colorbar": {
             "outlinewidth": 0,
             "ticks": ""
            },
            "colorscale": [
             [
              0,
              "#0d0887"
             ],
             [
              0.1111111111111111,
              "#46039f"
             ],
             [
              0.2222222222222222,
              "#7201a8"
             ],
             [
              0.3333333333333333,
              "#9c179e"
             ],
             [
              0.4444444444444444,
              "#bd3786"
             ],
             [
              0.5555555555555556,
              "#d8576b"
             ],
             [
              0.6666666666666666,
              "#ed7953"
             ],
             [
              0.7777777777777778,
              "#fb9f3a"
             ],
             [
              0.8888888888888888,
              "#fdca26"
             ],
             [
              1,
              "#f0f921"
             ]
            ],
            "type": "contour"
           }
          ],
          "contourcarpet": [
           {
            "colorbar": {
             "outlinewidth": 0,
             "ticks": ""
            },
            "type": "contourcarpet"
           }
          ],
          "heatmap": [
           {
            "colorbar": {
             "outlinewidth": 0,
             "ticks": ""
            },
            "colorscale": [
             [
              0,
              "#0d0887"
             ],
             [
              0.1111111111111111,
              "#46039f"
             ],
             [
              0.2222222222222222,
              "#7201a8"
             ],
             [
              0.3333333333333333,
              "#9c179e"
             ],
             [
              0.4444444444444444,
              "#bd3786"
             ],
             [
              0.5555555555555556,
              "#d8576b"
             ],
             [
              0.6666666666666666,
              "#ed7953"
             ],
             [
              0.7777777777777778,
              "#fb9f3a"
             ],
             [
              0.8888888888888888,
              "#fdca26"
             ],
             [
              1,
              "#f0f921"
             ]
            ],
            "type": "heatmap"
           }
          ],
          "histogram": [
           {
            "marker": {
             "pattern": {
              "fillmode": "overlay",
              "size": 10,
              "solidity": 0.2
             }
            },
            "type": "histogram"
           }
          ],
          "histogram2d": [
           {
            "colorbar": {
             "outlinewidth": 0,
             "ticks": ""
            },
            "colorscale": [
             [
              0,
              "#0d0887"
             ],
             [
              0.1111111111111111,
              "#46039f"
             ],
             [
              0.2222222222222222,
              "#7201a8"
             ],
             [
              0.3333333333333333,
              "#9c179e"
             ],
             [
              0.4444444444444444,
              "#bd3786"
             ],
             [
              0.5555555555555556,
              "#d8576b"
             ],
             [
              0.6666666666666666,
              "#ed7953"
             ],
             [
              0.7777777777777778,
              "#fb9f3a"
             ],
             [
              0.8888888888888888,
              "#fdca26"
             ],
             [
              1,
              "#f0f921"
             ]
            ],
            "type": "histogram2d"
           }
          ],
          "histogram2dcontour": [
           {
            "colorbar": {
             "outlinewidth": 0,
             "ticks": ""
            },
            "colorscale": [
             [
              0,
              "#0d0887"
             ],
             [
              0.1111111111111111,
              "#46039f"
             ],
             [
              0.2222222222222222,
              "#7201a8"
             ],
             [
              0.3333333333333333,
              "#9c179e"
             ],
             [
              0.4444444444444444,
              "#bd3786"
             ],
             [
              0.5555555555555556,
              "#d8576b"
             ],
             [
              0.6666666666666666,
              "#ed7953"
             ],
             [
              0.7777777777777778,
              "#fb9f3a"
             ],
             [
              0.8888888888888888,
              "#fdca26"
             ],
             [
              1,
              "#f0f921"
             ]
            ],
            "type": "histogram2dcontour"
           }
          ],
          "mesh3d": [
           {
            "colorbar": {
             "outlinewidth": 0,
             "ticks": ""
            },
            "type": "mesh3d"
           }
          ],
          "parcoords": [
           {
            "line": {
             "colorbar": {
              "outlinewidth": 0,
              "ticks": ""
             }
            },
            "type": "parcoords"
           }
          ],
          "pie": [
           {
            "automargin": true,
            "type": "pie"
           }
          ],
          "scatter": [
           {
            "fillpattern": {
             "fillmode": "overlay",
             "size": 10,
             "solidity": 0.2
            },
            "type": "scatter"
           }
          ],
          "scatter3d": [
           {
            "line": {
             "colorbar": {
              "outlinewidth": 0,
              "ticks": ""
             }
            },
            "marker": {
             "colorbar": {
              "outlinewidth": 0,
              "ticks": ""
             }
            },
            "type": "scatter3d"
           }
          ],
          "scattercarpet": [
           {
            "marker": {
             "colorbar": {
              "outlinewidth": 0,
              "ticks": ""
             }
            },
            "type": "scattercarpet"
           }
          ],
          "scattergeo": [
           {
            "marker": {
             "colorbar": {
              "outlinewidth": 0,
              "ticks": ""
             }
            },
            "type": "scattergeo"
           }
          ],
          "scattergl": [
           {
            "marker": {
             "colorbar": {
              "outlinewidth": 0,
              "ticks": ""
             }
            },
            "type": "scattergl"
           }
          ],
          "scattermap": [
           {
            "marker": {
             "colorbar": {
              "outlinewidth": 0,
              "ticks": ""
             }
            },
            "type": "scattermap"
           }
          ],
          "scattermapbox": [
           {
            "marker": {
             "colorbar": {
              "outlinewidth": 0,
              "ticks": ""
             }
            },
            "type": "scattermapbox"
           }
          ],
          "scatterpolar": [
           {
            "marker": {
             "colorbar": {
              "outlinewidth": 0,
              "ticks": ""
             }
            },
            "type": "scatterpolar"
           }
          ],
          "scatterpolargl": [
           {
            "marker": {
             "colorbar": {
              "outlinewidth": 0,
              "ticks": ""
             }
            },
            "type": "scatterpolargl"
           }
          ],
          "scatterternary": [
           {
            "marker": {
             "colorbar": {
              "outlinewidth": 0,
              "ticks": ""
             }
            },
            "type": "scatterternary"
           }
          ],
          "surface": [
           {
            "colorbar": {
             "outlinewidth": 0,
             "ticks": ""
            },
            "colorscale": [
             [
              0,
              "#0d0887"
             ],
             [
              0.1111111111111111,
              "#46039f"
             ],
             [
              0.2222222222222222,
              "#7201a8"
             ],
             [
              0.3333333333333333,
              "#9c179e"
             ],
             [
              0.4444444444444444,
              "#bd3786"
             ],
             [
              0.5555555555555556,
              "#d8576b"
             ],
             [
              0.6666666666666666,
              "#ed7953"
             ],
             [
              0.7777777777777778,
              "#fb9f3a"
             ],
             [
              0.8888888888888888,
              "#fdca26"
             ],
             [
              1,
              "#f0f921"
             ]
            ],
            "type": "surface"
           }
          ],
          "table": [
           {
            "cells": {
             "fill": {
              "color": "#EBF0F8"
             },
             "line": {
              "color": "white"
             }
            },
            "header": {
             "fill": {
              "color": "#C8D4E3"
             },
             "line": {
              "color": "white"
             }
            },
            "type": "table"
           }
          ]
         },
         "layout": {
          "annotationdefaults": {
           "arrowcolor": "#2a3f5f",
           "arrowhead": 0,
           "arrowwidth": 1
          },
          "autotypenumbers": "strict",
          "coloraxis": {
           "colorbar": {
            "outlinewidth": 0,
            "ticks": ""
           }
          },
          "colorscale": {
           "diverging": [
            [
             0,
             "#8e0152"
            ],
            [
             0.1,
             "#c51b7d"
            ],
            [
             0.2,
             "#de77ae"
            ],
            [
             0.3,
             "#f1b6da"
            ],
            [
             0.4,
             "#fde0ef"
            ],
            [
             0.5,
             "#f7f7f7"
            ],
            [
             0.6,
             "#e6f5d0"
            ],
            [
             0.7,
             "#b8e186"
            ],
            [
             0.8,
             "#7fbc41"
            ],
            [
             0.9,
             "#4d9221"
            ],
            [
             1,
             "#276419"
            ]
           ],
           "sequential": [
            [
             0,
             "#0d0887"
            ],
            [
             0.1111111111111111,
             "#46039f"
            ],
            [
             0.2222222222222222,
             "#7201a8"
            ],
            [
             0.3333333333333333,
             "#9c179e"
            ],
            [
             0.4444444444444444,
             "#bd3786"
            ],
            [
             0.5555555555555556,
             "#d8576b"
            ],
            [
             0.6666666666666666,
             "#ed7953"
            ],
            [
             0.7777777777777778,
             "#fb9f3a"
            ],
            [
             0.8888888888888888,
             "#fdca26"
            ],
            [
             1,
             "#f0f921"
            ]
           ],
           "sequentialminus": [
            [
             0,
             "#0d0887"
            ],
            [
             0.1111111111111111,
             "#46039f"
            ],
            [
             0.2222222222222222,
             "#7201a8"
            ],
            [
             0.3333333333333333,
             "#9c179e"
            ],
            [
             0.4444444444444444,
             "#bd3786"
            ],
            [
             0.5555555555555556,
             "#d8576b"
            ],
            [
             0.6666666666666666,
             "#ed7953"
            ],
            [
             0.7777777777777778,
             "#fb9f3a"
            ],
            [
             0.8888888888888888,
             "#fdca26"
            ],
            [
             1,
             "#f0f921"
            ]
           ]
          },
          "colorway": [
           "#636efa",
           "#EF553B",
           "#00cc96",
           "#ab63fa",
           "#FFA15A",
           "#19d3f3",
           "#FF6692",
           "#B6E880",
           "#FF97FF",
           "#FECB52"
          ],
          "font": {
           "color": "#2a3f5f"
          },
          "geo": {
           "bgcolor": "white",
           "lakecolor": "white",
           "landcolor": "#E5ECF6",
           "showlakes": true,
           "showland": true,
           "subunitcolor": "white"
          },
          "hoverlabel": {
           "align": "left"
          },
          "hovermode": "closest",
          "mapbox": {
           "style": "light"
          },
          "paper_bgcolor": "white",
          "plot_bgcolor": "#E5ECF6",
          "polar": {
           "angularaxis": {
            "gridcolor": "white",
            "linecolor": "white",
            "ticks": ""
           },
           "bgcolor": "#E5ECF6",
           "radialaxis": {
            "gridcolor": "white",
            "linecolor": "white",
            "ticks": ""
           }
          },
          "scene": {
           "xaxis": {
            "backgroundcolor": "#E5ECF6",
            "gridcolor": "white",
            "gridwidth": 2,
            "linecolor": "white",
            "showbackground": true,
            "ticks": "",
            "zerolinecolor": "white"
           },
           "yaxis": {
            "backgroundcolor": "#E5ECF6",
            "gridcolor": "white",
            "gridwidth": 2,
            "linecolor": "white",
            "showbackground": true,
            "ticks": "",
            "zerolinecolor": "white"
           },
           "zaxis": {
            "backgroundcolor": "#E5ECF6",
            "gridcolor": "white",
            "gridwidth": 2,
            "linecolor": "white",
            "showbackground": true,
            "ticks": "",
            "zerolinecolor": "white"
           }
          },
          "shapedefaults": {
           "line": {
            "color": "#2a3f5f"
           }
          },
          "ternary": {
           "aaxis": {
            "gridcolor": "white",
            "linecolor": "white",
            "ticks": ""
           },
           "baxis": {
            "gridcolor": "white",
            "linecolor": "white",
            "ticks": ""
           },
           "bgcolor": "#E5ECF6",
           "caxis": {
            "gridcolor": "white",
            "linecolor": "white",
            "ticks": ""
           }
          },
          "title": {
           "x": 0.05
          },
          "xaxis": {
           "automargin": true,
           "gridcolor": "white",
           "linecolor": "white",
           "ticks": "",
           "title": {
            "standoff": 15
           },
           "zerolinecolor": "white",
           "zerolinewidth": 2
          },
          "yaxis": {
           "automargin": true,
           "gridcolor": "white",
           "linecolor": "white",
           "ticks": "",
           "title": {
            "standoff": 15
           },
           "zerolinecolor": "white",
           "zerolinewidth": 2
          }
         }
        }
       }
      }
     },
     "metadata": {},
     "output_type": "display_data"
    }
   ],
   "source": [
    "fig = px.scatter_3d(df, x='feature1', y='feature2', z='target')\n",
    "\n",
    "fig.show()"
   ]
  },
  {
   "cell_type": "code",
   "execution_count": 10,
   "metadata": {},
   "outputs": [],
   "source": [
    "from sklearn.model_selection import train_test_split\n",
    "X_train,X_test,y_train,y_test = train_test_split(X,y,test_size=0.2,random_state=3)\n",
    "     "
   ]
  },
  {
   "cell_type": "code",
   "execution_count": 11,
   "metadata": {},
   "outputs": [],
   "source": [
    "\n",
    "from sklearn.linear_model import LinearRegression"
   ]
  },
  {
   "cell_type": "code",
   "execution_count": 12,
   "metadata": {},
   "outputs": [],
   "source": [
    "lr=LinearRegression()"
   ]
  },
  {
   "cell_type": "code",
   "execution_count": 14,
   "metadata": {},
   "outputs": [],
   "source": [
    "lr.fit(X_train,y_train)\n",
    "LinearRegression(copy_X=True, fit_intercept=True, n_jobs=None)\n",
    "y_pred=lr.predict(X_test)"
   ]
  },
  {
   "cell_type": "code",
   "execution_count": 15,
   "metadata": {},
   "outputs": [
    {
     "name": "stdout",
     "output_type": "stream",
     "text": [
      "MAE 34.71974883095652\n",
      "MSE 1871.2237828923103\n",
      "R2 score 0.8134835109010845\n"
     ]
    }
   ],
   "source": [
    "\n",
    "print(\"MAE\",mean_absolute_error(y_test,y_pred))\n",
    "print(\"MSE\",mean_squared_error(y_test,y_pred))\n",
    "print(\"R2 score\",r2_score(y_test,y_pred))"
   ]
  },
  {
   "cell_type": "code",
   "execution_count": 17,
   "metadata": {},
   "outputs": [
    {
     "data": {
      "application/vnd.plotly.v1+json": {
       "config": {
        "plotlyServerURL": "https://plot.ly"
       },
       "data": [
        {
         "hovertemplate": "feature1=%{x}<br>feature2=%{y}<br>target=%{z}<extra></extra>",
         "legendgroup": "",
         "marker": {
          "color": "#636efa",
          "symbol": "circle"
         },
         "mode": "markers",
         "name": "",
         "scene": "scene",
         "showlegend": false,
         "type": "scatter3d",
         "x": {
          "bdata": "pRPYIzcH6j/jp6sxtGj5P+dC6IQRGPc/fkXjDO4EBECVnOhLjISoP/PB4hDNrN2/EylBwPkU1L/X/qnafCTTP4ADcXisheI/Wj/HCRvi4L/Jt55Ve3rmP83COhYieLk/jRLR38KG779iYrXaCeumvw/i5fY3Auu/6V0w+Lonvj/26OFQTefEP15ZLIRA0+i/kmE9qEuIwj9WMbK8ljX3vy4Lj55Hd9+/MUhgfaMw9T9ZqjuidRvqvxkLd/ySX7M/KHc6DLwQ8T8nBn2T98DXP/ioy3HpneU/KzGxuWq98L827BC6tIzivwefFQJ3cdI/f8pT7YNa8D/AK9aA9s/Iv3Z173F0zt2/Kf6ukg4b879yXciJynzxP+MV6utJzPm/wtJedVPk47/wvgSnlHjav62Y9BUll+s/s6pIfw9U7j9f3tv0Atnyvz5FQ7bH9vY/boK9lAe56r/UclLWBZfSPz97M6XtCfM/6Iqm7yFS8T/6aHtPn0fjP8xFkwo1AfQ/RX7DtIpV3D8PROsFPuLWP7V+qIp5avO/lI8oV3o64j8oNHrZ8Yjjv8nwod/vd5c/yiBFgeWBwT9UGz85Hku8P2UnoLHJTPE/VL//BpUe3D+d+iGAZaXbv8vWEDNvyfC/dxWWos7Fyj9IIrhlwU7vP6cOuesGxvE/UgTefL205j+d1EGFS5Dyv+grzdH4JfE/5JDEM4jC1j/dw69dzHPrv5ZTGZG3sfS/3ni8FkNi7b/xC6gT/MHxPx46Wtum7tW/COho32BCzb9vluaQACuuP5CNwv7aRvE/kKQUaGYtyb8lqPHofc3tP+M1Z/PpNPY/Tk3vIwTD8j8E+7O4PWTrPwcrux+Ij5+/Mfj6gkbT5z/pjnUbAS4FQB9RDiutvue/mmwXXqIM8L9dS+F3rnfqPzGllyycN/I/lCBmhumi77+dILjxqT3oPxq/NXSzkvI/D4YfFZl0+z/PX60J/lLXPx/LxBtIVuC/LojaFuq617+cwQ+PGZvtv6sAJ7/yjfK/UV1pS0FB6D+AF66gLkS7P6JTYphE6oO/OUbrLmEd6z8=",
          "dtype": "f8"
         },
         "y": {
          "bdata": "xwWdE2Vh8L9odh/XEbTiv/I8U3stP98/fGPhc7Lu+b/xEktGSFmXvzIXVFUKV/S/x7QFRTrs979upQvWDvz+vymKyk8st7e/rUEMCBjE4z+Yj35ABgvtv/d4GrUVA7Q/ggI625uj0T/zy8lNm7fsPwWUXcW47dS/kULa2Zk/2D9oCuR8wMnoP5tHssSTgKi/yq4Akhml+j8c1E5pwE3jv9GUU+9UBeO/dbnq+IZB9b8TOhMl3SH4P7bnHxOglqc/J35s1OlO9b+ZqfRrTMPuP8lj2Dg5k/S/Fyuf92V46r9kCbnaLBr0P6S7+nOhl+O/nk9DDcnzw7+grY3prB7lP/1t1hjCT+C/WUtpwUpa5T+9rsnU3kzrv0UI2dT1cwFASzpwkjMo+b/a1cAphzrnv7Re3bqpPc+/4cnlFGhy8T8/lBQJCy36PxUVV0k0Hvm/JIv1pF64+r+PWdouxyP6P9EyGrLaJtE/x+SdbHNY6b+q+RhWRdnEP2BLErgZ1OW/F+yfGFaZ4b86y3HptXnaP4DYkBEkQ9k//Kd1MCyD0b9z7hfMW7nVP9U+6fd3mui/tj8RgR3f7j/mjAOA6ZG4v+c8pV/gX/A/D93gk5BL6T/FPOPKKRTWv/ZRiTU1H8A/LYVqRwAI7j9Mf02XF4bhv3aambn/U/k/OH6fvxja4j8L8bEcM9z+P8+mzrrN2QFA7JwL2tVV4b87ZPEeha/6P1F8B8kSsOm/+qRuxbxo9D/JA0UlTdYIQCrCo3nc5Pe/uG8Akai/7T+W5wUZUtPlv878GIFf87K/1yQibN2U9b+5OwJcNb/xv4XNI5hIONC/oXgXzV+B3b/H4gzmfzLHv1h8AtR2euK/DMi9GdoJ4D/kS2/E95LrP0S0DQD0e+E/OnjhQLw2AMC9bVK9Fr/dP53hwK7s9uI/UPr2TDVU5j9jQw1cLL/1v+WT+Nchf+E/WOXw2K1j3r+QHP7MtdLvv5ic/D42I/u/pQXpFZDY5T/HbwhIFDbQP/mt+qT34gDA2fmC40Nc6T/ezZcusK/bPyR7v792Oty/uxc6MUXe+r8=",
          "dtype": "f8"
         },
         "z": {
          "bdata": "CXaEZVy9WsDKdCqMpE5AwEethEuCo0BAtOh+j7eyWsB7yr3bxvwpQL4BfAxqnmnAXXew+VPfWcBmYIyWUGZrwK/y+2koVz/AODBhKmFNH0AiDtaXbkpPwOsQ7Jy3YFXA8Bp9ERQGH8B4Oaum11AgQP59ILn+rFPA9Iu09ZtbPcBvvjiUg1ZDQNnPjMBqH0FAtbRkIRroZED83MmhQWtNwE3n/vKV5VLA6Ngn4flBP8C0v5CxRHlWQDaXO2b4uFFAPAeLrJoaYcDtkCJoqDxRQIj8R7Mpq2TAQJjbYknPRcAOOrLSP6NFQGSKEsDvpFzASDUuAOhYIsCQNBXUrIJhQD5q2/6m3EPA+LYUwC85WkC+Q4tyulI8wOdNWW0sG2dAfF2/sXCgYMAyi0XC6QdawHYvaufIiyfAmH+N9qwFNcAVtEzS+9BTQDCaZRme3lLAIqB7MGlCYMBJuhOtgRtiQC6XBOq3alJA5Cb45TZ4LUDywyMSB/xGQLA1FM28I03A4LnGUwUqGEAjpagHrRdBQN5gv1bsK0tAfgjt83yaWMC/a7oTJBo0wKSC7eURLVbAB6RK9Y2SYEAS0GQXfo9OwIYHiAW95lpA7hyVQv/GWUDewDEYZPxFwKMaB+0WfC7A3GyzdEYnXEDMPsLKLSlHwGqyCW6tx05AcqeDuFayO8DOzjzrUPRqQC4ohu1I625AV6dzyUVHNsDeGn0IaqRfQO8gz+W4XmHAaICHkc9jXkCgi6KHWwpxQGp6R18U8WPA0bd5FtCNW0CHE3scN19hwPbwmpbfbVBAh9y8x5fwZ8C6Tmx7ndxlwBi8L2f0phtAhJ6Cq5GCTMBOeOaeOmhawLhC4jPkQEjAQEB6EvjGR0AzjisiD31YQO3vyRkm5UJA0IBVnM2abcDAbKLEuFNPQLiY+dUX6k5A3s81kH2GSEBM0hQR3jNmwF6LYwWhDkpAUjFHXCFoRkBATRnC4jhXwIpwBPoPUFjAcf1PjIm6TUB+cGmvidBDQKi+z3kTLXDAHRIbMvKaV0ATMO+vfyJXQNgEOE5LwlLABBzzNix/ZsA=",
          "dtype": "f8"
         }
        },
        {
         "type": "surface",
         "x": {
          "bdata": "AAAAAAAAFMDHcRzHcRwPwI7jOI7jOAbAqqqqqqqq+r9wHMdxHMfhv3Acx3Ecx+E/rKqqqqqq+j+Q4ziO4zgGQMhxHMdxHA9AAAAAAAAAFEA=",
          "dtype": "f8"
         },
         "y": {
          "bdata": "AAAAAAAAFMDHcRzHcRwPwI7jOI7jOAbAqqqqqqqq+r9wHMdxHMfhv3Acx3Ecx+E/rKqqqqqq+j+Q4ziO4zgGQMhxHMdxHA9AAAAAAAAAFEA=",
          "dtype": "f8"
         },
         "z": {
          "bdata": "VEIgLRN7gMCHE45icBaAwHbJ9y+bY3/A3WvTmlWafsBEDq8FENF9wKqwinDKB33AEVNm24Q+fMB49UFGP3V7wN+XHbH5q3rARjr5G7TiecDgXQ+g9ZV6wEcA6wqwzHnArqLGdWoDecAVRaLgJDp4wHznfUvfcHfA4olZtpmndsBJLDUhVN51wLDOEIwOFXXAF3Hs9shLdMB+E8hhg4JzwBk33uXENXTAgNm5UH9sc8Dme5W7OaNywE0ecSb02XHAtMBMka4QccAbYyj8aEdwwAMLCM5G/G7A0U+/o7tpbcCelHZ5MNdrwGzZLU+lRGrAoiBaVyira8BwZREtnRhqwD2qyAIShmjAC+9/2IbzZsDYMzeu+2BlwKZ47oNwzmPAc72lWeU7YsBAAl0vWqlgwByOKAqeLV7AuBeXtYcIW8Akpu/FjdVdwMAvXnF3sFrAWrnMHGGLV8D2QjvISmZUwJHMqXM0QVHAV6wwPjw4TMCNvw2VD+5FwIal1dfFRz/A8suPhWyzMsCCySfNTHwYwBwsrHQrUzHAIkqZiUj7EsAuHH6/HFYfQJ5gJYLgaTRAGZ016hx/QEDjiViTSclGQK12ezx2E01AuzHPctGuUUAgqGDH59NUQIQe8hv++FdAGpCZC/grVUB/BitgDlFYQOR8vLQkdltASPNNCTubXkDXtO+uKOBgQAlwONmzcmJAPCuBAz8FZEBu5sktypdlQKGhElhVKmdA01xbguC8aECeFS96XVZnQNDQd6To6GhAA4zAznN7akA1Rwn5/g1sQGgCUiOKoG1Amr2aTRUzb0BmvPE70GJwQAAaFtEVLHFAmXc6Zlv1cUAy1V77oL5yQJaxSHdfC3JAMA9tDKXUckDJbJGh6p1zQGLKtTYwZ3RA+yfay3UwdUCVhf5gu/l1QC7jIvYAw3ZAx0BHi0aMd0BgnmsgjFV4QPr7j7XRHnlAXth5MZBreED3NZ7G1TR5QJCTwlsb/nlAKfHm8GDHekDCTguGppB7QFysLxvsWXxA9QlUsDEjfUCOZ3hFd+x9QCfFnNq8tX5AwCLBbwJ/f0A=",
          "dtype": "f8",
          "shape": "10, 10"
         }
        }
       ],
       "layout": {
        "legend": {
         "tracegroupgap": 0
        },
        "margin": {
         "t": 60
        },
        "scene": {
         "domain": {
          "x": [
           0,
           1
          ],
          "y": [
           0,
           1
          ]
         },
         "xaxis": {
          "title": {
           "text": "feature1"
          }
         },
         "yaxis": {
          "title": {
           "text": "feature2"
          }
         },
         "zaxis": {
          "title": {
           "text": "target"
          }
         }
        },
        "template": {
         "data": {
          "bar": [
           {
            "error_x": {
             "color": "#2a3f5f"
            },
            "error_y": {
             "color": "#2a3f5f"
            },
            "marker": {
             "line": {
              "color": "#E5ECF6",
              "width": 0.5
             },
             "pattern": {
              "fillmode": "overlay",
              "size": 10,
              "solidity": 0.2
             }
            },
            "type": "bar"
           }
          ],
          "barpolar": [
           {
            "marker": {
             "line": {
              "color": "#E5ECF6",
              "width": 0.5
             },
             "pattern": {
              "fillmode": "overlay",
              "size": 10,
              "solidity": 0.2
             }
            },
            "type": "barpolar"
           }
          ],
          "carpet": [
           {
            "aaxis": {
             "endlinecolor": "#2a3f5f",
             "gridcolor": "white",
             "linecolor": "white",
             "minorgridcolor": "white",
             "startlinecolor": "#2a3f5f"
            },
            "baxis": {
             "endlinecolor": "#2a3f5f",
             "gridcolor": "white",
             "linecolor": "white",
             "minorgridcolor": "white",
             "startlinecolor": "#2a3f5f"
            },
            "type": "carpet"
           }
          ],
          "choropleth": [
           {
            "colorbar": {
             "outlinewidth": 0,
             "ticks": ""
            },
            "type": "choropleth"
           }
          ],
          "contour": [
           {
            "colorbar": {
             "outlinewidth": 0,
             "ticks": ""
            },
            "colorscale": [
             [
              0,
              "#0d0887"
             ],
             [
              0.1111111111111111,
              "#46039f"
             ],
             [
              0.2222222222222222,
              "#7201a8"
             ],
             [
              0.3333333333333333,
              "#9c179e"
             ],
             [
              0.4444444444444444,
              "#bd3786"
             ],
             [
              0.5555555555555556,
              "#d8576b"
             ],
             [
              0.6666666666666666,
              "#ed7953"
             ],
             [
              0.7777777777777778,
              "#fb9f3a"
             ],
             [
              0.8888888888888888,
              "#fdca26"
             ],
             [
              1,
              "#f0f921"
             ]
            ],
            "type": "contour"
           }
          ],
          "contourcarpet": [
           {
            "colorbar": {
             "outlinewidth": 0,
             "ticks": ""
            },
            "type": "contourcarpet"
           }
          ],
          "heatmap": [
           {
            "colorbar": {
             "outlinewidth": 0,
             "ticks": ""
            },
            "colorscale": [
             [
              0,
              "#0d0887"
             ],
             [
              0.1111111111111111,
              "#46039f"
             ],
             [
              0.2222222222222222,
              "#7201a8"
             ],
             [
              0.3333333333333333,
              "#9c179e"
             ],
             [
              0.4444444444444444,
              "#bd3786"
             ],
             [
              0.5555555555555556,
              "#d8576b"
             ],
             [
              0.6666666666666666,
              "#ed7953"
             ],
             [
              0.7777777777777778,
              "#fb9f3a"
             ],
             [
              0.8888888888888888,
              "#fdca26"
             ],
             [
              1,
              "#f0f921"
             ]
            ],
            "type": "heatmap"
           }
          ],
          "histogram": [
           {
            "marker": {
             "pattern": {
              "fillmode": "overlay",
              "size": 10,
              "solidity": 0.2
             }
            },
            "type": "histogram"
           }
          ],
          "histogram2d": [
           {
            "colorbar": {
             "outlinewidth": 0,
             "ticks": ""
            },
            "colorscale": [
             [
              0,
              "#0d0887"
             ],
             [
              0.1111111111111111,
              "#46039f"
             ],
             [
              0.2222222222222222,
              "#7201a8"
             ],
             [
              0.3333333333333333,
              "#9c179e"
             ],
             [
              0.4444444444444444,
              "#bd3786"
             ],
             [
              0.5555555555555556,
              "#d8576b"
             ],
             [
              0.6666666666666666,
              "#ed7953"
             ],
             [
              0.7777777777777778,
              "#fb9f3a"
             ],
             [
              0.8888888888888888,
              "#fdca26"
             ],
             [
              1,
              "#f0f921"
             ]
            ],
            "type": "histogram2d"
           }
          ],
          "histogram2dcontour": [
           {
            "colorbar": {
             "outlinewidth": 0,
             "ticks": ""
            },
            "colorscale": [
             [
              0,
              "#0d0887"
             ],
             [
              0.1111111111111111,
              "#46039f"
             ],
             [
              0.2222222222222222,
              "#7201a8"
             ],
             [
              0.3333333333333333,
              "#9c179e"
             ],
             [
              0.4444444444444444,
              "#bd3786"
             ],
             [
              0.5555555555555556,
              "#d8576b"
             ],
             [
              0.6666666666666666,
              "#ed7953"
             ],
             [
              0.7777777777777778,
              "#fb9f3a"
             ],
             [
              0.8888888888888888,
              "#fdca26"
             ],
             [
              1,
              "#f0f921"
             ]
            ],
            "type": "histogram2dcontour"
           }
          ],
          "mesh3d": [
           {
            "colorbar": {
             "outlinewidth": 0,
             "ticks": ""
            },
            "type": "mesh3d"
           }
          ],
          "parcoords": [
           {
            "line": {
             "colorbar": {
              "outlinewidth": 0,
              "ticks": ""
             }
            },
            "type": "parcoords"
           }
          ],
          "pie": [
           {
            "automargin": true,
            "type": "pie"
           }
          ],
          "scatter": [
           {
            "fillpattern": {
             "fillmode": "overlay",
             "size": 10,
             "solidity": 0.2
            },
            "type": "scatter"
           }
          ],
          "scatter3d": [
           {
            "line": {
             "colorbar": {
              "outlinewidth": 0,
              "ticks": ""
             }
            },
            "marker": {
             "colorbar": {
              "outlinewidth": 0,
              "ticks": ""
             }
            },
            "type": "scatter3d"
           }
          ],
          "scattercarpet": [
           {
            "marker": {
             "colorbar": {
              "outlinewidth": 0,
              "ticks": ""
             }
            },
            "type": "scattercarpet"
           }
          ],
          "scattergeo": [
           {
            "marker": {
             "colorbar": {
              "outlinewidth": 0,
              "ticks": ""
             }
            },
            "type": "scattergeo"
           }
          ],
          "scattergl": [
           {
            "marker": {
             "colorbar": {
              "outlinewidth": 0,
              "ticks": ""
             }
            },
            "type": "scattergl"
           }
          ],
          "scattermap": [
           {
            "marker": {
             "colorbar": {
              "outlinewidth": 0,
              "ticks": ""
             }
            },
            "type": "scattermap"
           }
          ],
          "scattermapbox": [
           {
            "marker": {
             "colorbar": {
              "outlinewidth": 0,
              "ticks": ""
             }
            },
            "type": "scattermapbox"
           }
          ],
          "scatterpolar": [
           {
            "marker": {
             "colorbar": {
              "outlinewidth": 0,
              "ticks": ""
             }
            },
            "type": "scatterpolar"
           }
          ],
          "scatterpolargl": [
           {
            "marker": {
             "colorbar": {
              "outlinewidth": 0,
              "ticks": ""
             }
            },
            "type": "scatterpolargl"
           }
          ],
          "scatterternary": [
           {
            "marker": {
             "colorbar": {
              "outlinewidth": 0,
              "ticks": ""
             }
            },
            "type": "scatterternary"
           }
          ],
          "surface": [
           {
            "colorbar": {
             "outlinewidth": 0,
             "ticks": ""
            },
            "colorscale": [
             [
              0,
              "#0d0887"
             ],
             [
              0.1111111111111111,
              "#46039f"
             ],
             [
              0.2222222222222222,
              "#7201a8"
             ],
             [
              0.3333333333333333,
              "#9c179e"
             ],
             [
              0.4444444444444444,
              "#bd3786"
             ],
             [
              0.5555555555555556,
              "#d8576b"
             ],
             [
              0.6666666666666666,
              "#ed7953"
             ],
             [
              0.7777777777777778,
              "#fb9f3a"
             ],
             [
              0.8888888888888888,
              "#fdca26"
             ],
             [
              1,
              "#f0f921"
             ]
            ],
            "type": "surface"
           }
          ],
          "table": [
           {
            "cells": {
             "fill": {
              "color": "#EBF0F8"
             },
             "line": {
              "color": "white"
             }
            },
            "header": {
             "fill": {
              "color": "#C8D4E3"
             },
             "line": {
              "color": "white"
             }
            },
            "type": "table"
           }
          ]
         },
         "layout": {
          "annotationdefaults": {
           "arrowcolor": "#2a3f5f",
           "arrowhead": 0,
           "arrowwidth": 1
          },
          "autotypenumbers": "strict",
          "coloraxis": {
           "colorbar": {
            "outlinewidth": 0,
            "ticks": ""
           }
          },
          "colorscale": {
           "diverging": [
            [
             0,
             "#8e0152"
            ],
            [
             0.1,
             "#c51b7d"
            ],
            [
             0.2,
             "#de77ae"
            ],
            [
             0.3,
             "#f1b6da"
            ],
            [
             0.4,
             "#fde0ef"
            ],
            [
             0.5,
             "#f7f7f7"
            ],
            [
             0.6,
             "#e6f5d0"
            ],
            [
             0.7,
             "#b8e186"
            ],
            [
             0.8,
             "#7fbc41"
            ],
            [
             0.9,
             "#4d9221"
            ],
            [
             1,
             "#276419"
            ]
           ],
           "sequential": [
            [
             0,
             "#0d0887"
            ],
            [
             0.1111111111111111,
             "#46039f"
            ],
            [
             0.2222222222222222,
             "#7201a8"
            ],
            [
             0.3333333333333333,
             "#9c179e"
            ],
            [
             0.4444444444444444,
             "#bd3786"
            ],
            [
             0.5555555555555556,
             "#d8576b"
            ],
            [
             0.6666666666666666,
             "#ed7953"
            ],
            [
             0.7777777777777778,
             "#fb9f3a"
            ],
            [
             0.8888888888888888,
             "#fdca26"
            ],
            [
             1,
             "#f0f921"
            ]
           ],
           "sequentialminus": [
            [
             0,
             "#0d0887"
            ],
            [
             0.1111111111111111,
             "#46039f"
            ],
            [
             0.2222222222222222,
             "#7201a8"
            ],
            [
             0.3333333333333333,
             "#9c179e"
            ],
            [
             0.4444444444444444,
             "#bd3786"
            ],
            [
             0.5555555555555556,
             "#d8576b"
            ],
            [
             0.6666666666666666,
             "#ed7953"
            ],
            [
             0.7777777777777778,
             "#fb9f3a"
            ],
            [
             0.8888888888888888,
             "#fdca26"
            ],
            [
             1,
             "#f0f921"
            ]
           ]
          },
          "colorway": [
           "#636efa",
           "#EF553B",
           "#00cc96",
           "#ab63fa",
           "#FFA15A",
           "#19d3f3",
           "#FF6692",
           "#B6E880",
           "#FF97FF",
           "#FECB52"
          ],
          "font": {
           "color": "#2a3f5f"
          },
          "geo": {
           "bgcolor": "white",
           "lakecolor": "white",
           "landcolor": "#E5ECF6",
           "showlakes": true,
           "showland": true,
           "subunitcolor": "white"
          },
          "hoverlabel": {
           "align": "left"
          },
          "hovermode": "closest",
          "mapbox": {
           "style": "light"
          },
          "paper_bgcolor": "white",
          "plot_bgcolor": "#E5ECF6",
          "polar": {
           "angularaxis": {
            "gridcolor": "white",
            "linecolor": "white",
            "ticks": ""
           },
           "bgcolor": "#E5ECF6",
           "radialaxis": {
            "gridcolor": "white",
            "linecolor": "white",
            "ticks": ""
           }
          },
          "scene": {
           "xaxis": {
            "backgroundcolor": "#E5ECF6",
            "gridcolor": "white",
            "gridwidth": 2,
            "linecolor": "white",
            "showbackground": true,
            "ticks": "",
            "zerolinecolor": "white"
           },
           "yaxis": {
            "backgroundcolor": "#E5ECF6",
            "gridcolor": "white",
            "gridwidth": 2,
            "linecolor": "white",
            "showbackground": true,
            "ticks": "",
            "zerolinecolor": "white"
           },
           "zaxis": {
            "backgroundcolor": "#E5ECF6",
            "gridcolor": "white",
            "gridwidth": 2,
            "linecolor": "white",
            "showbackground": true,
            "ticks": "",
            "zerolinecolor": "white"
           }
          },
          "shapedefaults": {
           "line": {
            "color": "#2a3f5f"
           }
          },
          "ternary": {
           "aaxis": {
            "gridcolor": "white",
            "linecolor": "white",
            "ticks": ""
           },
           "baxis": {
            "gridcolor": "white",
            "linecolor": "white",
            "ticks": ""
           },
           "bgcolor": "#E5ECF6",
           "caxis": {
            "gridcolor": "white",
            "linecolor": "white",
            "ticks": ""
           }
          },
          "title": {
           "x": 0.05
          },
          "xaxis": {
           "automargin": true,
           "gridcolor": "white",
           "linecolor": "white",
           "ticks": "",
           "title": {
            "standoff": 15
           },
           "zerolinecolor": "white",
           "zerolinewidth": 2
          },
          "yaxis": {
           "automargin": true,
           "gridcolor": "white",
           "linecolor": "white",
           "ticks": "",
           "title": {
            "standoff": 15
           },
           "zerolinecolor": "white",
           "zerolinewidth": 2
          }
         }
        }
       }
      }
     },
     "metadata": {},
     "output_type": "display_data"
    }
   ],
   "source": [
    "\n",
    "x = np.linspace(-5, 5, 10)\n",
    "y = np.linspace(-5, 5, 10)\n",
    "xGrid, yGrid = np.meshgrid(y, x)\n",
    "final = np.vstack((xGrid.ravel().reshape(1,100), yGrid.ravel().reshape(1,100))).T\n",
    "\n",
    "\n",
    "z_final = lr.predict(final).reshape(10,10)\n",
    "\n",
    "z = z_final\n",
    "\n",
    "final = np.vstack((xGrid.ravel().reshape(1,100),yGrid.ravel().reshape(1,100))).T\n",
    "     \n",
    "\n",
    "fig = px.scatter_3d(df, x='feature1', y='feature2', z='target')\n",
    "\n",
    "fig.add_trace(go.Surface(x = x, y = y, z =z ))\n",
    "\n",
    "fig.show()"
   ]
  },
  {
   "cell_type": "code",
   "execution_count": 18,
   "metadata": {},
   "outputs": [
    {
     "data": {
      "text/plain": [
       "array([11.32153914, 91.81070668])"
      ]
     },
     "execution_count": 18,
     "metadata": {},
     "output_type": "execute_result"
    }
   ],
   "source": [
    "lr.coef_"
   ]
  },
  {
   "cell_type": "code",
   "execution_count": 19,
   "metadata": {},
   "outputs": [
    {
     "data": {
      "text/plain": [
       "np.float64(-11.72313427810081)"
      ]
     },
     "execution_count": 19,
     "metadata": {},
     "output_type": "execute_result"
    }
   ],
   "source": [
    "lr.intercept_"
   ]
  },
  {
   "cell_type": "code",
   "execution_count": null,
   "metadata": {},
   "outputs": [],
   "source": []
  }
 ],
 "metadata": {
  "kernelspec": {
   "display_name": "Python 3",
   "language": "python",
   "name": "python3"
  },
  "language_info": {
   "codemirror_mode": {
    "name": "ipython",
    "version": 3
   },
   "file_extension": ".py",
   "mimetype": "text/x-python",
   "name": "python",
   "nbconvert_exporter": "python",
   "pygments_lexer": "ipython3",
   "version": "3.13.1"
  }
 },
 "nbformat": 4,
 "nbformat_minor": 2
}
